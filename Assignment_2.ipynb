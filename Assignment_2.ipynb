{
 "cells": [
  {
   "cell_type": "code",
   "execution_count": null,
   "id": "e9fb7afc",
   "metadata": {},
   "outputs": [],
   "source": [
    "\"\"\"\n",
    "1.What are the two values of the Boolean data type? How do you write them?\n",
    "True and False\n",
    "It will always be written in \"T\" & \"F\" in capital letter\n",
    "\n",
    "\n",
    "What are the three different types of Boolean operators?\n",
    "AND NOT OR\n",
    "\n",
    "Make a list of each Boolean operator&#39;s truth tables (i.e. every possible combination of Boolean\n",
    "values for the operator and what it evaluate ).\n",
    "\n",
    "# AND operator truth table\n",
    "print(False and False)  # False\n",
    "print(False and True)   # False\n",
    "print(True and False)   # False\n",
    "print(True and True)    # True\n",
    "\n",
    "# OR operator truth table\n",
    "print(False or False)   # False\n",
    "print(False or True)    # True\n",
    "print(True or False)    # True\n",
    "print(True or True)     # True\n",
    "\n",
    "# NOT operator truth table\n",
    "print(not False)  # True\n",
    "print(not True)   # False\n",
    "\n",
    "4. What are the values of the following expressions?\n",
    "(5 > 4) and (3 == 5)\n",
    "not (5 > 4)\n",
    "\n",
    "5: What are the six comparison operators?\n",
    "Equal to (==): Checks if two values are equal.\n",
    "Not equal to (!=): Checks if two values are not equal.\n",
    "Greater than (>): Checks if the left operand is greater than the right operand.\n",
    "Less than (<): Checks if the left operand is less than the right operand.\n",
    "Greater than or equal to (>=): Checks if the left operand is greater than or equal to the right operand.\n",
    "Less than or equal to (<=): Checks if the left operand is less than or equal to the right operand.\n",
    "\n",
    "\n",
    "6. How do you tell the difference between the equal to and assignment operators?Describe a\n",
    "condition and when you would use one.\n",
    "x = 5  # Assignment operator: assigns the value 5 to x \n",
    "it is used to assign values to variables\n",
    "\n",
    "x == 5:  # Equal to operator: checks if x is equal to 5\n",
    "\n",
    "9.If your programme is stuck in an endless loop, what keys you’ll press?\n",
    "cntl+c\n",
    "\n",
    "\n",
    "\n",
    "\n",
    "\"\"\""
   ]
  },
  {
   "cell_type": "code",
   "execution_count": 8,
   "id": "8c39b242",
   "metadata": {},
   "outputs": [
    {
     "name": "stdout",
     "output_type": "stream",
     "text": [
      "True\n",
      "False\n"
     ]
    }
   ],
   "source": [
    "# boolean\n",
    "a = 10\n",
    "b = 5\n",
    "print(10 > 5)  #output True\n",
    "print(10 == 5) #output False"
   ]
  },
  {
   "cell_type": "code",
   "execution_count": 24,
   "id": "5f97757b",
   "metadata": {},
   "outputs": [
    {
     "name": "stdout",
     "output_type": "stream",
     "text": [
      "False False True False\n"
     ]
    },
    {
     "data": {
      "text/plain": [
       "True"
      ]
     },
     "execution_count": 24,
     "metadata": {},
     "output_type": "execute_result"
    }
   ],
   "source": [
    "# question 4\n",
    "a = ((5 > 4) and (3 == 5))\n",
    "b = (not (5 > 4))\n",
    "c = ((5 > 4) or (3 == 5))\n",
    "d = (not (5 > 4))\n",
    "print(a,b,c,d)\n",
    "\n",
    "a = (True and True) and (True == False)\n",
    "(not False) or (not True)"
   ]
  },
  {
   "cell_type": "code",
   "execution_count": 29,
   "id": "4d0db2b6",
   "metadata": {},
   "outputs": [
    {
     "name": "stdout",
     "output_type": "stream",
     "text": [
      "5\n"
     ]
    },
    {
     "data": {
      "text/plain": [
       "True"
      ]
     },
     "execution_count": 29,
     "metadata": {},
     "output_type": "execute_result"
    }
   ],
   "source": [
    "# queston 5\n",
    "x = 5\n",
    "print(5)\n",
    "# output is 5\n",
    "\n",
    "x == 5"
   ]
  },
  {
   "cell_type": "code",
   "execution_count": 1,
   "id": "a1b1b389",
   "metadata": {},
   "outputs": [
    {
     "ename": "IndentationError",
     "evalue": "expected an indented block after 'if' statement on line 4 (131917751.py, line 5)",
     "output_type": "error",
     "traceback": [
      "\u001b[1;36m  Cell \u001b[1;32mIn[1], line 5\u001b[1;36m\u001b[0m\n\u001b[1;33m    print('eggs')\u001b[0m\n\u001b[1;37m    ^\u001b[0m\n\u001b[1;31mIndentationError\u001b[0m\u001b[1;31m:\u001b[0m expected an indented block after 'if' statement on line 4\n"
     ]
    }
   ],
   "source": [
    "# question 7\n",
    "#Blocks are like 'if', 'else', 'for', 'while', etc used in programming\n",
    "spam = 0\n",
    "if spam == 10:\n",
    "print('eggs')\n",
    "\n",
    "if spam > 5:\n",
    "print('bacon')\n",
    "\n",
    "else:\n",
    "print('hamn')\n",
    "print('spam')\n",
    "print('spam')"
   ]
  },
  {
   "cell_type": "code",
   "execution_count": 33,
   "id": "82344cf0",
   "metadata": {},
   "outputs": [
    {
     "ename": "NameError",
     "evalue": "name 'hello' is not defined",
     "output_type": "error",
     "traceback": [
      "\u001b[1;31m---------------------------------------------------------------------------\u001b[0m",
      "\u001b[1;31mNameError\u001b[0m                                 Traceback (most recent call last)",
      "Cell \u001b[1;32mIn[33], line 4\u001b[0m\n\u001b[0;32m      1\u001b[0m \u001b[38;5;66;03m#8. Write code that prints Hello if 1 is stored in spam, prints Howdy if 2 is stored in spam, and prints\u001b[39;00m\n\u001b[0;32m      2\u001b[0m \u001b[38;5;66;03m#Greetings! if anything else is stored in spam.\u001b[39;00m\n\u001b[1;32m----> 4\u001b[0m spam \u001b[38;5;241m=\u001b[39m \u001b[43mhello\u001b[49m\n\u001b[0;32m      6\u001b[0m \u001b[38;5;28;01mif\u001b[39;00m spam \u001b[38;5;241m==\u001b[39m \u001b[38;5;241m1\u001b[39m:\n\u001b[0;32m      7\u001b[0m     \u001b[38;5;28mprint\u001b[39m(\u001b[38;5;124m\"\u001b[39m\u001b[38;5;124mHello\u001b[39m\u001b[38;5;124m\"\u001b[39m)\n",
      "\u001b[1;31mNameError\u001b[0m: name 'hello' is not defined"
     ]
    }
   ],
   "source": [
    "#8. Write code that prints Hello if 1 is stored in spam, prints Howdy if 2 is stored in spam, and prints\n",
    "#Greetings! if anything else is stored in spam.\n",
    "\n",
    "spam = hello\n",
    "\n",
    "if spam == 1:\n",
    "    print(\"Hello\")\n",
    "    \n",
    "elif spam == 2:\n",
    "    print(\"Howdy\")\n",
    "\n",
    "else:\n",
    "    print(\"Greetings!\")"
   ]
  },
  {
   "cell_type": "code",
   "execution_count": 16,
   "id": "6aca3a7c",
   "metadata": {},
   "outputs": [
    {
     "name": "stdout",
     "output_type": "stream",
     "text": [
      "greeting!\n"
     ]
    }
   ],
   "source": [
    "#Q8 - I personally solved this query I am very happy\n",
    "\n",
    "spam = 1, 2\n",
    "\n",
    "if spam == 1:\n",
    "    print(\"hello\")\n",
    "elif spam == 2:\n",
    "    print(\"howdy\")\n",
    "else:\n",
    "    print(\"greeting!\")"
   ]
  },
  {
   "cell_type": "code",
   "execution_count": null,
   "id": "4b6c124a",
   "metadata": {},
   "outputs": [],
   "source": []
  }
 ],
 "metadata": {
  "kernelspec": {
   "display_name": "Python 3 (ipykernel)",
   "language": "python",
   "name": "python3"
  },
  "language_info": {
   "codemirror_mode": {
    "name": "ipython",
    "version": 3
   },
   "file_extension": ".py",
   "mimetype": "text/x-python",
   "name": "python",
   "nbconvert_exporter": "python",
   "pygments_lexer": "ipython3",
   "version": "3.10.9"
  }
 },
 "nbformat": 4,
 "nbformat_minor": 5
}
